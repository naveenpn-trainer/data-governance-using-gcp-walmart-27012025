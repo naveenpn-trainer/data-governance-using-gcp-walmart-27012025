{
 "cells": [
  {
   "cell_type": "code",
   "execution_count": 0,
   "metadata": {
    "application/vnd.databricks.v1+cell": {
     "cellMetadata": {
      "byteLimit": 2048000,
      "rowLimit": 10000
     },
     "inputWidgets": {},
     "nuid": "e3181112-d62b-4116-8255-d232b8d59041",
     "showTitle": false,
     "tableResultSettingsMap": {},
     "title": ""
    }
   },
   "outputs": [
    {
     "output_type": "stream",
     "name": "stdout",
     "output_type": "stream",
     "text": [
      "Out[5]: True"
     ]
    }
   ],
   "source": [
    "dbutils.fs.rm(\"dbfs:/FileStore/walmart/dataset/sample_dataset.dat\")"
   ]
  },
  {
   "cell_type": "markdown",
   "metadata": {
    "application/vnd.databricks.v1+cell": {
     "cellMetadata": {},
     "inputWidgets": {},
     "nuid": "8526fdda-4c64-4d06-b18a-28546bec9c03",
     "showTitle": false,
     "tableResultSettingsMap": {},
     "title": ""
    }
   },
   "source": [
    "# Prerequsite"
   ]
  },
  {
   "cell_type": "markdown",
   "metadata": {
    "application/vnd.databricks.v1+cell": {
     "cellMetadata": {},
     "inputWidgets": {},
     "nuid": "56e60ac5-3a39-4bf0-b570-1518ac1bf1e3",
     "showTitle": false,
     "tableResultSettingsMap": {},
     "title": ""
    }
   },
   "source": [
    "## Load dataset into DataFrame"
   ]
  },
  {
   "cell_type": "code",
   "execution_count": 0,
   "metadata": {
    "application/vnd.databricks.v1+cell": {
     "cellMetadata": {
      "byteLimit": 2048000,
      "rowLimit": 10000
     },
     "inputWidgets": {},
     "nuid": "37fd8417-808f-4db9-ac79-edc2073a1f29",
     "showTitle": false,
     "tableResultSettingsMap": {},
     "title": ""
    }
   },
   "outputs": [
    {
     "output_type": "display_data",
     "data": {
      "text/html": [
       "<style scoped>\n",
       "  .table-result-container {\n",
       "    max-height: 300px;\n",
       "    overflow: auto;\n",
       "  }\n",
       "  table, th, td {\n",
       "    border: 1px solid black;\n",
       "    border-collapse: collapse;\n",
       "  }\n",
       "  th, td {\n",
       "    padding: 5px;\n",
       "  }\n",
       "  th {\n",
       "    text-align: left;\n",
       "  }\n",
       "</style><div class='table-result-container'><table class='table-result'><thead style='background-color: white'><tr><th>ID</th><th>Name</th><th>Email</th><th>Phone</th><th>Date</th><th>State</th><th>City</th></tr></thead><tbody><tr><td>1</td><td>John Doe</td><td>john.doe@example.com</td><td>(555) 456-7890</td><td>2025-01-01</td><td>CA</td><td>Los Angeles</td></tr><tr><td>2</td><td>Jane Smith</td><td>null</td><td>0987654321</td><td>2024-12-15</td><td>null</td><td>San Francisco</td></tr><tr><td>3</td><td>Sam Brown</td><td>sam.brown@</td><td>(555) 456-7890</td><td>null</td><td>NY</td><td>Albany</td></tr><tr><td>4</td><td>null</td><td>emma.wilson@example.com</td><td>(555) 456-7890</td><td>2025-01-10</td><td>TX</td><td>Dallas</td></tr><tr><td>5</td><td>Alex Johnson</td><td>alex.johnson@example.com</td><td>(555) 456-7890</td><td>2025-01-05</td><td>CA</td><td>San Diego</td></tr><tr><td>6</td><td>Michael Lee</td><td>michael.lee@example.com</td><td>null</td><td>2023-12-30</td><td>FL</td><td>Miami</td></tr><tr><td>7</td><td>Laura Kim</td><td>null</td><td>abcdefg123</td><td>2025-01-15</td><td>TX</td><td>Houston</td></tr><tr><td>8</td><td>Sophia Brown</td><td>sophia.brownexample.com</td><td>(555) 456-7890</td><td>2025-02-01</td><td>NY</td><td>New York</td></tr><tr><td>9</td><td>    </td><td>mark.jones@example.com</td><td>(555) 456-7890</td><td>2023-11-20</td><td>null</td><td>Jacksonville</td></tr><tr><td>10</td><td>Chris Green</td><td>chris.green@example.com</td><td>(555) 456-7890</td><td>null</td><td>NY</td><td>null</td></tr></tbody></table></div>"
      ]
     },
     "metadata": {
      "application/vnd.databricks.v1+output": {
       "addedWidgets": {},
       "aggData": [],
       "aggError": "",
       "aggOverflow": false,
       "aggSchema": [],
       "aggSeriesLimitReached": false,
       "aggType": "",
       "arguments": {},
       "columnCustomDisplayInfos": {},
       "data": [
        [
         1,
         "John Doe",
         "john.doe@example.com",
         "(555) 456-7890",
         "2025-01-01",
         "CA",
         "Los Angeles"
        ],
        [
         2,
         "Jane Smith",
         null,
         "0987654321",
         "2024-12-15",
         null,
         "San Francisco"
        ],
        [
         3,
         "Sam Brown",
         "sam.brown@",
         "(555) 456-7890",
         null,
         "NY",
         "Albany"
        ],
        [
         4,
         null,
         "emma.wilson@example.com",
         "(555) 456-7890",
         "2025-01-10",
         "TX",
         "Dallas"
        ],
        [
         5,
         "Alex Johnson",
         "alex.johnson@example.com",
         "(555) 456-7890",
         "2025-01-05",
         "CA",
         "San Diego"
        ],
        [
         6,
         "Michael Lee",
         "michael.lee@example.com",
         null,
         "2023-12-30",
         "FL",
         "Miami"
        ],
        [
         7,
         "Laura Kim",
         null,
         "abcdefg123",
         "2025-01-15",
         "TX",
         "Houston"
        ],
        [
         8,
         "Sophia Brown",
         "sophia.brownexample.com",
         "(555) 456-7890",
         "2025-02-01",
         "NY",
         "New York"
        ],
        [
         9,
         "    ",
         "mark.jones@example.com",
         "(555) 456-7890",
         "2023-11-20",
         null,
         "Jacksonville"
        ],
        [
         10,
         "Chris Green",
         "chris.green@example.com",
         "(555) 456-7890",
         null,
         "NY",
         null
        ]
       ],
       "datasetInfos": [],
       "dbfsResultPath": null,
       "isJsonSchema": true,
       "metadata": {},
       "overflow": false,
       "plotOptions": {
        "customPlotOptions": {},
        "displayType": "table",
        "pivotAggregation": null,
        "pivotColumns": null,
        "xColumns": null,
        "yColumns": null
       },
       "removedWidgets": [],
       "schema": [
        {
         "metadata": "{}",
         "name": "ID",
         "type": "\"integer\""
        },
        {
         "metadata": "{}",
         "name": "Name",
         "type": "\"string\""
        },
        {
         "metadata": "{}",
         "name": "Email",
         "type": "\"string\""
        },
        {
         "metadata": "{}",
         "name": "Phone",
         "type": "\"string\""
        },
        {
         "metadata": "{\"__detected_date_formats\":\"yyyy-M-d\"}",
         "name": "Date",
         "type": "\"date\""
        },
        {
         "metadata": "{}",
         "name": "State",
         "type": "\"string\""
        },
        {
         "metadata": "{}",
         "name": "City",
         "type": "\"string\""
        }
       ],
       "type": "table"
      }
     },
     "output_type": "display_data"
    }
   ],
   "source": [
    "df = spark.read.csv(path=\"dbfs:/FileStore/walmart/dataset/sample_dataset.dat\",\n",
    "                    header=True,\n",
    "                    inferSchema=True)\n",
    "df.display()                    "
   ]
  },
  {
   "cell_type": "markdown",
   "metadata": {
    "application/vnd.databricks.v1+cell": {
     "cellMetadata": {},
     "inputWidgets": {},
     "nuid": "03183285-567c-4944-8653-6f987e024cca",
     "showTitle": false,
     "tableResultSettingsMap": {},
     "title": ""
    }
   },
   "source": [
    "# Data Quality"
   ]
  },
  {
   "cell_type": "markdown",
   "metadata": {
    "application/vnd.databricks.v1+cell": {
     "cellMetadata": {},
     "inputWidgets": {},
     "nuid": "2051ef9b-4f2c-410d-947d-58b88f15e8b4",
     "showTitle": false,
     "tableResultSettingsMap": {},
     "title": ""
    }
   },
   "source": [
    "## Completeness"
   ]
  },
  {
   "cell_type": "markdown",
   "metadata": {
    "application/vnd.databricks.v1+cell": {
     "cellMetadata": {},
     "inputWidgets": {},
     "nuid": "0ff3c97a-0e79-41c5-98f3-ec748dc8bccf",
     "showTitle": false,
     "tableResultSettingsMap": {},
     "title": ""
    }
   },
   "source": [
    "### Calcuting for single column"
   ]
  },
  {
   "cell_type": "code",
   "execution_count": 0,
   "metadata": {
    "application/vnd.databricks.v1+cell": {
     "cellMetadata": {
      "byteLimit": 2048000,
      "rowLimit": 10000
     },
     "inputWidgets": {},
     "nuid": "006674fa-39d2-452a-97f1-88b34f425039",
     "showTitle": false,
     "tableResultSettingsMap": {},
     "title": ""
    }
   },
   "outputs": [
    {
     "output_type": "stream",
     "name": "stdout",
     "output_type": "stream",
     "text": [
      "Completeness score for column:Name is 80.0\n"
     ]
    }
   ],
   "source": [
    "from pyspark.sql.functions import *\n",
    "\n",
    "column_name = \"Name\"\n",
    "non_null_count = df.filter(col(column_name).isNotNull()).count()\n",
    "total_count = df.count()\n",
    "completeness_score = ((non_null_count) / total_count) * 100\n",
    "print(f\"Completeness score for column:{column_name} is {completeness_score}\")"
   ]
  },
  {
   "cell_type": "markdown",
   "metadata": {
    "application/vnd.databricks.v1+cell": {
     "cellMetadata": {},
     "inputWidgets": {},
     "nuid": "ba876ff3-35d5-437c-8187-ba41c716b146",
     "showTitle": false,
     "tableResultSettingsMap": {},
     "title": ""
    }
   },
   "source": [
    "### Calcuting for all columns"
   ]
  },
  {
   "cell_type": "code",
   "execution_count": 0,
   "metadata": {
    "application/vnd.databricks.v1+cell": {
     "cellMetadata": {
      "byteLimit": 2048000,
      "rowLimit": 10000
     },
     "inputWidgets": {},
     "nuid": "856d8107-ddc4-4387-bc88-1f96b3ad157a",
     "showTitle": false,
     "tableResultSettingsMap": {},
     "title": ""
    }
   },
   "outputs": [
    {
     "output_type": "stream",
     "name": "stdout",
     "output_type": "stream",
     "text": [
      "ID\nName\nEmail\nPhone\nDate\nState\nCity\n"
     ]
    }
   ],
   "source": [
    "for column in df.columns:\n",
    "    print(column)"
   ]
  },
  {
   "cell_type": "code",
   "execution_count": 0,
   "metadata": {
    "application/vnd.databricks.v1+cell": {
     "cellMetadata": {
      "byteLimit": 2048000,
      "rowLimit": 10000
     },
     "inputWidgets": {},
     "nuid": "d0e6c002-07b7-41a0-b204-7d58dcfb9af4",
     "showTitle": false,
     "tableResultSettingsMap": {},
     "title": ""
    }
   },
   "outputs": [
    {
     "output_type": "stream",
     "name": "stdout",
     "output_type": "stream",
     "text": [
      "{'ID': 1.0, 'Name': 0.9, 'Email': 0.8, 'Phone': 0.9, 'Date': 0.8, 'State': 0.8, 'City': 0.9}\nCompleteness score for ID: 100.0%\nCompleteness score for Name: 90.0%\nCompleteness score for Email: 80.0%\nCompleteness score for Phone: 90.0%\nCompleteness score for Date: 80.0%\nCompleteness score for State: 80.0%\nCompleteness score for City: 90.0%\n"
     ]
    }
   ],
   "source": [
    "completeness_score = {\n",
    "    column:(df.filter(col(column).isNotNull())).count() / total_count for column in df.columns\n",
    "}\n",
    "\n",
    "for column, score in completeness_score.items():\n",
    "    print(f\"Completeness score for {column}: {score*100}%\")"
   ]
  },
  {
   "cell_type": "markdown",
   "metadata": {
    "application/vnd.databricks.v1+cell": {
     "cellMetadata": {},
     "inputWidgets": {},
     "nuid": "769d10f0-33bb-400c-9101-bd0b5c86af9c",
     "showTitle": false,
     "tableResultSettingsMap": {},
     "title": ""
    }
   },
   "source": [
    "## Accuracy"
   ]
  },
  {
   "cell_type": "code",
   "execution_count": 0,
   "metadata": {
    "application/vnd.databricks.v1+cell": {
     "cellMetadata": {
      "byteLimit": 2048000,
      "rowLimit": 10000
     },
     "inputWidgets": {},
     "nuid": "06b90924-309f-4d69-a61c-f46aa6228e55",
     "showTitle": false,
     "tableResultSettingsMap": {},
     "title": ""
    }
   },
   "outputs": [
    {
     "output_type": "display_data",
     "data": {
      "text/html": [
       "<style scoped>\n",
       "  .table-result-container {\n",
       "    max-height: 300px;\n",
       "    overflow: auto;\n",
       "  }\n",
       "  table, th, td {\n",
       "    border: 1px solid black;\n",
       "    border-collapse: collapse;\n",
       "  }\n",
       "  th, td {\n",
       "    padding: 5px;\n",
       "  }\n",
       "  th {\n",
       "    text-align: left;\n",
       "  }\n",
       "</style><div class='table-result-container'><table class='table-result'><thead style='background-color: white'><tr><th>Phone</th></tr></thead><tbody><tr><td>0</td></tr></tbody></table></div>"
      ]
     },
     "metadata": {
      "application/vnd.databricks.v1+output": {
       "addedWidgets": {},
       "aggData": [],
       "aggError": "",
       "aggOverflow": false,
       "aggSchema": [],
       "aggSeriesLimitReached": false,
       "aggType": "",
       "arguments": {},
       "columnCustomDisplayInfos": {},
       "data": [
        [
         0
        ]
       ],
       "datasetInfos": [],
       "dbfsResultPath": null,
       "isJsonSchema": true,
       "metadata": {},
       "overflow": false,
       "plotOptions": {
        "customPlotOptions": {},
        "displayType": "table",
        "pivotAggregation": null,
        "pivotColumns": null,
        "xColumns": null,
        "yColumns": null
       },
       "removedWidgets": [],
       "schema": [
        {
         "metadata": "{}",
         "name": "Phone",
         "type": "\"long\""
        }
       ],
       "type": "table"
      }
     },
     "output_type": "display_data"
    }
   ],
   "source": [
    "df.select(\n",
    "    (\n",
    "        count(\n",
    "            when(col(\"Phone\").rlike(r\"^\\(\\d{3}\\) \\d{3}-\\d{4}$\"),\"True\") / total_count\n",
    "        )\n",
    "        * 100\n",
    "    ).alias(\"Phone\")\n",
    ").display()"
   ]
  },
  {
   "cell_type": "code",
   "execution_count": 0,
   "metadata": {
    "application/vnd.databricks.v1+cell": {
     "cellMetadata": {
      "byteLimit": 2048000,
      "rowLimit": 10000
     },
     "inputWidgets": {},
     "nuid": "1bae5261-3744-4a39-ab75-5c2baf72e61b",
     "showTitle": false,
     "tableResultSettingsMap": {},
     "title": ""
    }
   },
   "outputs": [
    {
     "output_type": "stream",
     "name": "stdout",
     "output_type": "stream",
     "text": [
      "+---------------+\n|PhonePercentage|\n+---------------+\n|           70.0|\n+---------------+\n\n"
     ]
    }
   ],
   "source": [
    "from pyspark.sql.functions import col, count, when\n",
    "\n",
    "df.select(\n",
    "    (\n",
    "        count(when(col(\"Phone\").rlike(r\"^\\(\\d{3}\\) \\d{3}-\\d{4}$\"), 1)) / total_count * 100\n",
    "    ).alias(\"PhonePercentage\")\n",
    ").show()"
   ]
  },
  {
   "cell_type": "markdown",
   "metadata": {
    "application/vnd.databricks.v1+cell": {
     "cellMetadata": {},
     "inputWidgets": {},
     "nuid": "16dbd1c3-b516-43f8-ad65-f392a2e5ef53",
     "showTitle": false,
     "tableResultSettingsMap": {},
     "title": ""
    }
   },
   "source": [
    "## Conformity"
   ]
  },
  {
   "cell_type": "code",
   "execution_count": 0,
   "metadata": {
    "application/vnd.databricks.v1+cell": {
     "cellMetadata": {
      "byteLimit": 2048000,
      "rowLimit": 10000
     },
     "inputWidgets": {},
     "nuid": "820b92ac-1f7b-4f64-baa5-4bc18542b9a4",
     "showTitle": false,
     "tableResultSettingsMap": {},
     "title": ""
    }
   },
   "outputs": [
    {
     "output_type": "display_data",
     "data": {
      "text/html": [
       "<style scoped>\n",
       "  .table-result-container {\n",
       "    max-height: 300px;\n",
       "    overflow: auto;\n",
       "  }\n",
       "  table, th, td {\n",
       "    border: 1px solid black;\n",
       "    border-collapse: collapse;\n",
       "  }\n",
       "  th, td {\n",
       "    padding: 5px;\n",
       "  }\n",
       "  th {\n",
       "    text-align: left;\n",
       "  }\n",
       "</style><div class='table-result-container'><table class='table-result'><thead style='background-color: white'><tr><th>State_Conformity</th></tr></thead><tbody><tr><td>50.0</td></tr></tbody></table></div>"
      ]
     },
     "metadata": {
      "application/vnd.databricks.v1+output": {
       "addedWidgets": {},
       "aggData": [],
       "aggError": "",
       "aggOverflow": false,
       "aggSchema": [],
       "aggSeriesLimitReached": false,
       "aggType": "",
       "arguments": {},
       "columnCustomDisplayInfos": {},
       "data": [
        [
         50.0
        ]
       ],
       "datasetInfos": [],
       "dbfsResultPath": null,
       "isJsonSchema": true,
       "metadata": {},
       "overflow": false,
       "plotOptions": {
        "customPlotOptions": {},
        "displayType": "table",
        "pivotAggregation": null,
        "pivotColumns": null,
        "xColumns": null,
        "yColumns": null
       },
       "removedWidgets": [],
       "schema": [
        {
         "metadata": "{}",
         "name": "State_Conformity",
         "type": "\"double\""
        }
       ],
       "type": "table"
      }
     },
     "output_type": "display_data"
    }
   ],
   "source": [
    "states = [\"CA\", \"NY\"]\n",
    "df.select(\n",
    "    ((count(when(col(\"State\").isin(states), \"State\")) / total_count) * 100).alias(\n",
    "        \"State_Conformity\"\n",
    "    )\n",
    ").display()"
   ]
  },
  {
   "cell_type": "code",
   "execution_count": 0,
   "metadata": {
    "application/vnd.databricks.v1+cell": {
     "cellMetadata": {},
     "inputWidgets": {},
     "nuid": "4e87fb1a-4f46-49d3-9497-fc174f88f86f",
     "showTitle": false,
     "tableResultSettingsMap": {},
     "title": ""
    }
   },
   "outputs": [],
   "source": []
  }
 ],
 "metadata": {
  "application/vnd.databricks.v1+notebook": {
   "computePreferences": null,
   "dashboards": [],
   "environmentMetadata": {
    "base_environment": "",
    "client": "1"
   },
   "language": "python",
   "notebookMetadata": {
    "pythonIndentUnit": 4
   },
   "notebookName": "Data Quality Dimensions",
   "widgets": {}
  }
 },
 "nbformat": 4,
 "nbformat_minor": 0
}
